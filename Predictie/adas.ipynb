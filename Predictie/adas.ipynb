{
 "cells": [
  {
   "cell_type": "code",
   "execution_count": null,
   "metadata": {},
   "outputs": [],
   "source": [
    "import pandas as pd\n",
    "import seaborn as sns"
   ]
  },
  {
   "cell_type": "code",
   "execution_count": 22,
   "metadata": {},
   "outputs": [
    {
     "data": {
      "text/html": [
       "<div>\n",
       "<style scoped>\n",
       "    .dataframe tbody tr th:only-of-type {\n",
       "        vertical-align: middle;\n",
       "    }\n",
       "\n",
       "    .dataframe tbody tr th {\n",
       "        vertical-align: top;\n",
       "    }\n",
       "\n",
       "    .dataframe thead th {\n",
       "        text-align: right;\n",
       "    }\n",
       "</style>\n",
       "<table border=\"1\" class=\"dataframe\">\n",
       "  <thead>\n",
       "    <tr style=\"text-align: right;\">\n",
       "      <th></th>\n",
       "      <th>wrestler1_win_rate_last_50</th>\n",
       "      <th>wrestler1_experience_years</th>\n",
       "      <th>wrestler1_technical_points_won_last_50</th>\n",
       "      <th>wrestler1_technical_points_lost_last_50</th>\n",
       "      <th>wrestler1_wins_against_wrestler2</th>\n",
       "      <th>wrestler2_win_rate_last_50</th>\n",
       "      <th>wrestler2_experience_years</th>\n",
       "      <th>wrestler2_technical_points_won_last_50</th>\n",
       "      <th>wrestler2_technical_points_lost_last_50</th>\n",
       "      <th>wrestler2_wins_against_wrestler1</th>\n",
       "      <th>winner</th>\n",
       "    </tr>\n",
       "  </thead>\n",
       "  <tbody>\n",
       "    <tr>\n",
       "      <th>0</th>\n",
       "      <td>0.504</td>\n",
       "      <td>3</td>\n",
       "      <td>76</td>\n",
       "      <td>60.8</td>\n",
       "      <td>0</td>\n",
       "      <td>0.453</td>\n",
       "      <td>2</td>\n",
       "      <td>71</td>\n",
       "      <td>55.8</td>\n",
       "      <td>0</td>\n",
       "      <td>1</td>\n",
       "    </tr>\n",
       "    <tr>\n",
       "      <th>1</th>\n",
       "      <td>0.508</td>\n",
       "      <td>3</td>\n",
       "      <td>77</td>\n",
       "      <td>61.6</td>\n",
       "      <td>1</td>\n",
       "      <td>0.456</td>\n",
       "      <td>2</td>\n",
       "      <td>72</td>\n",
       "      <td>56.5</td>\n",
       "      <td>0</td>\n",
       "      <td>1</td>\n",
       "    </tr>\n",
       "    <tr>\n",
       "      <th>2</th>\n",
       "      <td>0.512</td>\n",
       "      <td>3</td>\n",
       "      <td>78</td>\n",
       "      <td>62.4</td>\n",
       "      <td>2</td>\n",
       "      <td>0.459</td>\n",
       "      <td>2</td>\n",
       "      <td>73</td>\n",
       "      <td>57.2</td>\n",
       "      <td>0</td>\n",
       "      <td>0</td>\n",
       "    </tr>\n",
       "    <tr>\n",
       "      <th>3</th>\n",
       "      <td>0.516</td>\n",
       "      <td>3</td>\n",
       "      <td>79</td>\n",
       "      <td>63.2</td>\n",
       "      <td>3</td>\n",
       "      <td>0.462</td>\n",
       "      <td>2</td>\n",
       "      <td>74</td>\n",
       "      <td>58.0</td>\n",
       "      <td>0</td>\n",
       "      <td>1</td>\n",
       "    </tr>\n",
       "    <tr>\n",
       "      <th>4</th>\n",
       "      <td>0.520</td>\n",
       "      <td>3</td>\n",
       "      <td>80</td>\n",
       "      <td>64.0</td>\n",
       "      <td>4</td>\n",
       "      <td>0.465</td>\n",
       "      <td>2</td>\n",
       "      <td>75</td>\n",
       "      <td>58.8</td>\n",
       "      <td>0</td>\n",
       "      <td>0</td>\n",
       "    </tr>\n",
       "  </tbody>\n",
       "</table>\n",
       "</div>"
      ],
      "text/plain": [
       "   wrestler1_win_rate_last_50  wrestler1_experience_years  \\\n",
       "0                       0.504                           3   \n",
       "1                       0.508                           3   \n",
       "2                       0.512                           3   \n",
       "3                       0.516                           3   \n",
       "4                       0.520                           3   \n",
       "\n",
       "   wrestler1_technical_points_won_last_50  \\\n",
       "0                                      76   \n",
       "1                                      77   \n",
       "2                                      78   \n",
       "3                                      79   \n",
       "4                                      80   \n",
       "\n",
       "   wrestler1_technical_points_lost_last_50  wrestler1_wins_against_wrestler2  \\\n",
       "0                                     60.8                                 0   \n",
       "1                                     61.6                                 1   \n",
       "2                                     62.4                                 2   \n",
       "3                                     63.2                                 3   \n",
       "4                                     64.0                                 4   \n",
       "\n",
       "   wrestler2_win_rate_last_50  wrestler2_experience_years  \\\n",
       "0                       0.453                           2   \n",
       "1                       0.456                           2   \n",
       "2                       0.459                           2   \n",
       "3                       0.462                           2   \n",
       "4                       0.465                           2   \n",
       "\n",
       "   wrestler2_technical_points_won_last_50  \\\n",
       "0                                      71   \n",
       "1                                      72   \n",
       "2                                      73   \n",
       "3                                      74   \n",
       "4                                      75   \n",
       "\n",
       "   wrestler2_technical_points_lost_last_50  wrestler2_wins_against_wrestler1  \\\n",
       "0                                     55.8                                 0   \n",
       "1                                     56.5                                 0   \n",
       "2                                     57.2                                 0   \n",
       "3                                     58.0                                 0   \n",
       "4                                     58.8                                 0   \n",
       "\n",
       "   winner  \n",
       "0       1  \n",
       "1       1  \n",
       "2       0  \n",
       "3       1  \n",
       "4       0  "
      ]
     },
     "execution_count": 22,
     "metadata": {},
     "output_type": "execute_result"
    }
   ],
   "source": [
    "data = pd.read_csv(\"Wrestling_Data.csv\")\n",
    "data.head()"
   ]
  },
  {
   "cell_type": "code",
   "execution_count": 6,
   "metadata": {},
   "outputs": [
    {
     "name": "stdout",
     "output_type": "stream",
     "text": [
      "<class 'pandas.core.frame.DataFrame'>\n",
      "RangeIndex: 10 entries, 0 to 9\n",
      "Data columns (total 11 columns):\n",
      " #   Column                                   Non-Null Count  Dtype  \n",
      "---  ------                                   --------------  -----  \n",
      " 0   wrestler1_win_rate_last_50               10 non-null     float64\n",
      " 1   wrestler1_experience_years               10 non-null     int64  \n",
      " 2   wrestler1_technical_points_won_last_50   10 non-null     int64  \n",
      " 3   wrestler1_technical_points_lost_last_50  10 non-null     float64\n",
      " 4   wrestler1_wins_against_wrestler2         10 non-null     int64  \n",
      " 5   wrestler2_win_rate_last_50               10 non-null     float64\n",
      " 6   wrestler2_experience_years               10 non-null     int64  \n",
      " 7   wrestler2_technical_points_won_last_50   10 non-null     int64  \n",
      " 8   wrestler2_technical_points_lost_last_50  10 non-null     float64\n",
      " 9   wrestler2_wins_against_wrestler1         10 non-null     int64  \n",
      " 10  winner                                   10 non-null     int64  \n",
      "dtypes: float64(4), int64(7)\n",
      "memory usage: 1012.0 bytes\n"
     ]
    }
   ],
   "source": [
    "data.info()"
   ]
  },
  {
   "cell_type": "code",
   "execution_count": 7,
   "metadata": {},
   "outputs": [
    {
     "data": {
      "text/html": [
       "<div>\n",
       "<style scoped>\n",
       "    .dataframe tbody tr th:only-of-type {\n",
       "        vertical-align: middle;\n",
       "    }\n",
       "\n",
       "    .dataframe tbody tr th {\n",
       "        vertical-align: top;\n",
       "    }\n",
       "\n",
       "    .dataframe thead th {\n",
       "        text-align: right;\n",
       "    }\n",
       "</style>\n",
       "<table border=\"1\" class=\"dataframe\">\n",
       "  <thead>\n",
       "    <tr style=\"text-align: right;\">\n",
       "      <th></th>\n",
       "      <th>wrestler1_win_rate_last_50</th>\n",
       "      <th>wrestler1_experience_years</th>\n",
       "      <th>wrestler1_technical_points_won_last_50</th>\n",
       "      <th>wrestler1_technical_points_lost_last_50</th>\n",
       "      <th>wrestler1_wins_against_wrestler2</th>\n",
       "      <th>wrestler2_win_rate_last_50</th>\n",
       "      <th>wrestler2_experience_years</th>\n",
       "      <th>wrestler2_technical_points_won_last_50</th>\n",
       "      <th>wrestler2_technical_points_lost_last_50</th>\n",
       "      <th>wrestler2_wins_against_wrestler1</th>\n",
       "      <th>winner</th>\n",
       "    </tr>\n",
       "  </thead>\n",
       "  <tbody>\n",
       "    <tr>\n",
       "      <th>count</th>\n",
       "      <td>10.000000</td>\n",
       "      <td>10.000000</td>\n",
       "      <td>10.00000</td>\n",
       "      <td>10.00000</td>\n",
       "      <td>10.00000</td>\n",
       "      <td>10.000000</td>\n",
       "      <td>10.000000</td>\n",
       "      <td>10.00000</td>\n",
       "      <td>10.00000</td>\n",
       "      <td>10.0</td>\n",
       "      <td>10.0</td>\n",
       "    </tr>\n",
       "    <tr>\n",
       "      <th>mean</th>\n",
       "      <td>0.522000</td>\n",
       "      <td>3.500000</td>\n",
       "      <td>80.50000</td>\n",
       "      <td>64.40000</td>\n",
       "      <td>4.50000</td>\n",
       "      <td>0.466500</td>\n",
       "      <td>2.500000</td>\n",
       "      <td>75.50000</td>\n",
       "      <td>59.13000</td>\n",
       "      <td>0.0</td>\n",
       "      <td>1.0</td>\n",
       "    </tr>\n",
       "    <tr>\n",
       "      <th>std</th>\n",
       "      <td>0.012111</td>\n",
       "      <td>0.527046</td>\n",
       "      <td>3.02765</td>\n",
       "      <td>2.42212</td>\n",
       "      <td>3.02765</td>\n",
       "      <td>0.009083</td>\n",
       "      <td>0.527046</td>\n",
       "      <td>3.02765</td>\n",
       "      <td>2.27012</td>\n",
       "      <td>0.0</td>\n",
       "      <td>0.0</td>\n",
       "    </tr>\n",
       "    <tr>\n",
       "      <th>min</th>\n",
       "      <td>0.504000</td>\n",
       "      <td>3.000000</td>\n",
       "      <td>76.00000</td>\n",
       "      <td>60.80000</td>\n",
       "      <td>0.00000</td>\n",
       "      <td>0.453000</td>\n",
       "      <td>2.000000</td>\n",
       "      <td>71.00000</td>\n",
       "      <td>55.80000</td>\n",
       "      <td>0.0</td>\n",
       "      <td>1.0</td>\n",
       "    </tr>\n",
       "    <tr>\n",
       "      <th>25%</th>\n",
       "      <td>0.513000</td>\n",
       "      <td>3.000000</td>\n",
       "      <td>78.25000</td>\n",
       "      <td>62.60000</td>\n",
       "      <td>2.25000</td>\n",
       "      <td>0.459750</td>\n",
       "      <td>2.000000</td>\n",
       "      <td>73.25000</td>\n",
       "      <td>57.40000</td>\n",
       "      <td>0.0</td>\n",
       "      <td>1.0</td>\n",
       "    </tr>\n",
       "    <tr>\n",
       "      <th>50%</th>\n",
       "      <td>0.522000</td>\n",
       "      <td>3.500000</td>\n",
       "      <td>80.50000</td>\n",
       "      <td>64.40000</td>\n",
       "      <td>4.50000</td>\n",
       "      <td>0.466500</td>\n",
       "      <td>2.500000</td>\n",
       "      <td>75.50000</td>\n",
       "      <td>59.15000</td>\n",
       "      <td>0.0</td>\n",
       "      <td>1.0</td>\n",
       "    </tr>\n",
       "    <tr>\n",
       "      <th>75%</th>\n",
       "      <td>0.531000</td>\n",
       "      <td>4.000000</td>\n",
       "      <td>82.75000</td>\n",
       "      <td>66.20000</td>\n",
       "      <td>6.75000</td>\n",
       "      <td>0.473250</td>\n",
       "      <td>3.000000</td>\n",
       "      <td>77.75000</td>\n",
       "      <td>60.80000</td>\n",
       "      <td>0.0</td>\n",
       "      <td>1.0</td>\n",
       "    </tr>\n",
       "    <tr>\n",
       "      <th>max</th>\n",
       "      <td>0.540000</td>\n",
       "      <td>4.000000</td>\n",
       "      <td>85.00000</td>\n",
       "      <td>68.00000</td>\n",
       "      <td>9.00000</td>\n",
       "      <td>0.480000</td>\n",
       "      <td>3.000000</td>\n",
       "      <td>80.00000</td>\n",
       "      <td>62.50000</td>\n",
       "      <td>0.0</td>\n",
       "      <td>1.0</td>\n",
       "    </tr>\n",
       "  </tbody>\n",
       "</table>\n",
       "</div>"
      ],
      "text/plain": [
       "       wrestler1_win_rate_last_50  wrestler1_experience_years  \\\n",
       "count                   10.000000                   10.000000   \n",
       "mean                     0.522000                    3.500000   \n",
       "std                      0.012111                    0.527046   \n",
       "min                      0.504000                    3.000000   \n",
       "25%                      0.513000                    3.000000   \n",
       "50%                      0.522000                    3.500000   \n",
       "75%                      0.531000                    4.000000   \n",
       "max                      0.540000                    4.000000   \n",
       "\n",
       "       wrestler1_technical_points_won_last_50  \\\n",
       "count                                10.00000   \n",
       "mean                                 80.50000   \n",
       "std                                   3.02765   \n",
       "min                                  76.00000   \n",
       "25%                                  78.25000   \n",
       "50%                                  80.50000   \n",
       "75%                                  82.75000   \n",
       "max                                  85.00000   \n",
       "\n",
       "       wrestler1_technical_points_lost_last_50  \\\n",
       "count                                 10.00000   \n",
       "mean                                  64.40000   \n",
       "std                                    2.42212   \n",
       "min                                   60.80000   \n",
       "25%                                   62.60000   \n",
       "50%                                   64.40000   \n",
       "75%                                   66.20000   \n",
       "max                                   68.00000   \n",
       "\n",
       "       wrestler1_wins_against_wrestler2  wrestler2_win_rate_last_50  \\\n",
       "count                          10.00000                   10.000000   \n",
       "mean                            4.50000                    0.466500   \n",
       "std                             3.02765                    0.009083   \n",
       "min                             0.00000                    0.453000   \n",
       "25%                             2.25000                    0.459750   \n",
       "50%                             4.50000                    0.466500   \n",
       "75%                             6.75000                    0.473250   \n",
       "max                             9.00000                    0.480000   \n",
       "\n",
       "       wrestler2_experience_years  wrestler2_technical_points_won_last_50  \\\n",
       "count                   10.000000                                10.00000   \n",
       "mean                     2.500000                                75.50000   \n",
       "std                      0.527046                                 3.02765   \n",
       "min                      2.000000                                71.00000   \n",
       "25%                      2.000000                                73.25000   \n",
       "50%                      2.500000                                75.50000   \n",
       "75%                      3.000000                                77.75000   \n",
       "max                      3.000000                                80.00000   \n",
       "\n",
       "       wrestler2_technical_points_lost_last_50  \\\n",
       "count                                 10.00000   \n",
       "mean                                  59.13000   \n",
       "std                                    2.27012   \n",
       "min                                   55.80000   \n",
       "25%                                   57.40000   \n",
       "50%                                   59.15000   \n",
       "75%                                   60.80000   \n",
       "max                                   62.50000   \n",
       "\n",
       "       wrestler2_wins_against_wrestler1  winner  \n",
       "count                              10.0    10.0  \n",
       "mean                                0.0     1.0  \n",
       "std                                 0.0     0.0  \n",
       "min                                 0.0     1.0  \n",
       "25%                                 0.0     1.0  \n",
       "50%                                 0.0     1.0  \n",
       "75%                                 0.0     1.0  \n",
       "max                                 0.0     1.0  "
      ]
     },
     "execution_count": 7,
     "metadata": {},
     "output_type": "execute_result"
    }
   ],
   "source": [
    "data.describe()"
   ]
  },
  {
   "cell_type": "code",
   "execution_count": 19,
   "metadata": {},
   "outputs": [
    {
     "data": {
      "text/plain": [
       "<Axes: >"
      ]
     },
     "execution_count": 19,
     "metadata": {},
     "output_type": "execute_result"
    },
    {
     "data": {
      "image/png": "[encoded data removed]",
      "text/plain": [
       "<Figure size 640x480 with 2 Axes>"
      ]
     },
     "metadata": {},
     "output_type": "display_data"
    }
   ],
   "source": [
    "sns.heatmap(data.isnull())"
   ]
  },
  {
   "cell_type": "code",
   "execution_count": 23,
   "metadata": {},
   "outputs": [
    {
     "data": {
      "text/plain": [
       "0    1\n",
       "1    1\n",
       "2    0\n",
       "3    1\n",
       "4    0\n",
       "5    0\n",
       "6    0\n",
       "7    1\n",
       "8    1\n",
       "9    0\n",
       "Name: winner, dtype: int64"
      ]
     },
     "execution_count": 23,
     "metadata": {},
     "output_type": "execute_result"
    }
   ],
   "source": [
    "data.winner"
   ]
  },
  {
   "cell_type": "code",
   "execution_count": 24,
   "metadata": {},
   "outputs": [],
   "source": [
    "y = data[\"winner\"] \n",
    "X = data.drop([\"winner\"], axis=1)"
   ]
  },
  {
   "cell_type": "code",
   "execution_count": 29,
   "metadata": {},
   "outputs": [
    {
     "data": {
      "text/plain": [
       "array([[-1.5666989 , -1.        , -1.5666989 , -1.5666989 , -1.5666989 ,\n",
       "        -1.5666989 , -1.        , -1.5666989 , -1.5462303 ,  0.        ],\n",
       "       [-1.21854359, -1.        , -1.21854359, -1.21854359, -1.21854359,\n",
       "        -1.21854359, -1.        , -1.21854359, -1.2211969 ,  0.        ],\n",
       "       [-0.87038828, -1.        , -0.87038828, -0.87038828, -0.87038828,\n",
       "        -0.87038828, -1.        , -0.87038828, -0.89616351,  0.        ],\n",
       "       [-0.52223297, -1.        , -0.52223297, -0.52223297, -0.52223297,\n",
       "        -0.52223297, -1.        , -0.52223297, -0.52469677,  0.        ],\n",
       "       [-0.17407766, -1.        , -0.17407766, -0.17407766, -0.17407766,\n",
       "        -0.17407766, -1.        , -0.17407766, -0.15323003,  0.        ],\n",
       "       [ 0.17407766,  1.        ,  0.17407766,  0.17407766,  0.17407766,\n",
       "         0.17407766,  1.        ,  0.17407766,  0.17180337,  0.        ],\n",
       "       [ 0.52223297,  1.        ,  0.52223297,  0.52223297,  0.52223297,\n",
       "         0.52223297,  1.        ,  0.52223297,  0.49683676,  0.        ],\n",
       "       [ 0.87038828,  1.        ,  0.87038828,  0.87038828,  0.87038828,\n",
       "         0.87038828,  1.        ,  0.87038828,  0.8683035 ,  0.        ],\n",
       "       [ 1.21854359,  1.        ,  1.21854359,  1.21854359,  1.21854359,\n",
       "         1.21854359,  1.        ,  1.21854359,  1.23977024,  0.        ],\n",
       "       [ 1.5666989 ,  1.        ,  1.5666989 ,  1.5666989 ,  1.5666989 ,\n",
       "         1.5666989 ,  1.        ,  1.5666989 ,  1.56480364,  0.        ]])"
      ]
     },
     "execution_count": 29,
     "metadata": {},
     "output_type": "execute_result"
    }
   ],
   "source": [
    "from sklearn.preprocessing import StandardScaler\n",
    "\n",
    "scaler = StandardScaler()\n",
    "\n",
    "X_scaled = scaler.fit_transform(X)\n",
    "\n",
    "X_scaled"
   ]
  },
  {
   "cell_type": "code",
   "execution_count": 31,
   "metadata": {},
   "outputs": [],
   "source": [
    "from sklearn.model_selection import train_test_split\n",
    "\n",
    "X_train, X_test, y_train, y_test = train_test_split(X_scaled, y, test_size=0.30, random_state=42)"
   ]
  },
  {
   "cell_type": "code",
   "execution_count": 32,
   "metadata": {},
   "outputs": [],
   "source": [
    "from sklearn.linear_model import LogisticRegression\n",
    "\n",
    "lr = LogisticRegression()\n",
    "lr.fit(X_train, y_train)\n",
    "\n",
    "y_pred = lr.predict(X_test)"
   ]
  },
  {
   "cell_type": "code",
   "execution_count": 33,
   "metadata": {},
   "outputs": [
    {
     "data": {
      "text/plain": [
       "array([0, 1, 0])"
      ]
     },
     "execution_count": 33,
     "metadata": {},
     "output_type": "execute_result"
    }
   ],
   "source": [
    "y_pred"
   ]
  },
  {
   "cell_type": "code",
   "execution_count": 34,
   "metadata": {},
   "outputs": [
    {
     "data": {
      "text/plain": [
       "8    1\n",
       "1    1\n",
       "5    0\n",
       "Name: winner, dtype: int64"
      ]
     },
     "execution_count": 34,
     "metadata": {},
     "output_type": "execute_result"
    }
   ],
   "source": [
    "y_test"
   ]
  },
  {
   "cell_type": "code",
   "execution_count": 35,
   "metadata": {},
   "outputs": [
    {
     "name": "stdout",
     "output_type": "stream",
     "text": [
      "Accuracy:  0.67\n"
     ]
    }
   ],
   "source": [
    "from sklearn.metrics import accuracy_score\n",
    "\n",
    "accuracy = accuracy_score(y_test, y_pred)\n",
    "print(f\"Accuracy: {accuracy: .2f}\")"
   ]
  },
  {
   "cell_type": "code",
   "execution_count": 36,
   "metadata": {},
   "outputs": [
    {
     "name": "stdout",
     "output_type": "stream",
     "text": [
      "              precision    recall  f1-score   support\n",
      "\n",
      "           0       0.50      1.00      0.67         1\n",
      "           1       1.00      0.50      0.67         2\n",
      "\n",
      "    accuracy                           0.67         3\n",
      "   macro avg       0.75      0.75      0.67         3\n",
      "weighted avg       0.83      0.67      0.67         3\n",
      "\n"
     ]
    }
   ],
   "source": [
    "from sklearn.metrics import classification_report\n",
    "\n",
    "print(classification_report(y_test, y_pred))"
   ]
  }
 ],
 "metadata": {
  "kernelspec": {
   "display_name": "Python 3",
   "language": "python",
   "name": "python3"
  },
  "language_info": {
   "codemirror_mode": {
    "name": "ipython",
    "version": 3
   },
   "file_extension": ".py",
   "mimetype": "text/x-python",
   "name": "python",
   "nbconvert_exporter": "python",
   "pygments_lexer": "ipython3",
   "version": "3.13.2"
  }
 },
 "nbformat": 4,
 "nbformat_minor": 2
}
